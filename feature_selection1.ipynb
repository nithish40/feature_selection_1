{
  "nbformat": 4,
  "nbformat_minor": 0,
  "metadata": {
    "colab": {
      "provenance": []
    },
    "kernelspec": {
      "name": "python3",
      "display_name": "Python 3"
    },
    "language_info": {
      "name": "python"
    }
  },
  "cells": [
    {
      "cell_type": "code",
      "execution_count": 39,
      "metadata": {
        "id": "8gCP5buWOMpX",
        "colab": {
          "base_uri": "https://localhost:8080/"
        },
        "outputId": "95444e72-57f8-4d51-8181-578e118bfdd4"
      },
      "outputs": [
        {
          "output_type": "stream",
          "name": "stdout",
          "text": [
            "   Pregnancies  Glucose  BloodPressure  SkinThickness  Insulin   BMI  \\\n",
            "0            6      148             72             35        0  33.6   \n",
            "1            1       85             66             29        0  26.6   \n",
            "2            8      183             64              0        0  23.3   \n",
            "3            1       89             66             23       94  28.1   \n",
            "4            0      137             40             35      168  43.1   \n",
            "\n",
            "   DiabetesPedigreeFunction  Age  Outcome  \n",
            "0                     0.627   50        1  \n",
            "1                     0.351   31        0  \n",
            "2                     0.672   32        1  \n",
            "3                     0.167   21        0  \n",
            "4                     2.288   33        1  \n"
          ]
        }
      ],
      "source": [
        "import pandas as pd\n",
        "data = pd.read_csv(\"/content/drive/MyDrive/Colab Notebooks/diabetes.csv\")\n",
        "x=data.drop([\"Outcome\"],axis=1)\n",
        "y=data[\"Outcome\"]\n",
        "data.head()\n",
        "print(data.head())"
      ]
    },
    {
      "cell_type": "code",
      "source": [
        "\n",
        "missing_values=x.eq(0).sum()\n",
        "percent_missing_value=(missing_values/len(x))*100\n",
        "print(percent_missing_value)"
      ],
      "metadata": {
        "colab": {
          "base_uri": "https://localhost:8080/"
        },
        "id": "fvE6vuh2Uo2y",
        "outputId": "d5b15e9f-c9f8-4f51-faa8-49e36265791c"
      },
      "execution_count": 35,
      "outputs": [
        {
          "output_type": "stream",
          "name": "stdout",
          "text": [
            "Pregnancies                 14.453125\n",
            "Glucose                      0.651042\n",
            "BloodPressure                4.557292\n",
            "SkinThickness               29.557292\n",
            "Insulin                     48.697917\n",
            "BMI                          1.432292\n",
            "DiabetesPedigreeFunction     0.000000\n",
            "Age                          0.000000\n",
            "dtype: float64\n"
          ]
        }
      ]
    },
    {
      "cell_type": "code",
      "source": [
        "\n",
        "final_data=percent_missing_value.drop(percent_missing_value[percent_missing_value>30].index)\n",
        "print(final_data)"
      ],
      "metadata": {
        "colab": {
          "base_uri": "https://localhost:8080/"
        },
        "id": "b1gXFB11UtUI",
        "outputId": "877e804f-abad-4274-ec03-9b384c1294e2"
      },
      "execution_count": 36,
      "outputs": [
        {
          "output_type": "stream",
          "name": "stdout",
          "text": [
            "Pregnancies                 14.453125\n",
            "Glucose                      0.651042\n",
            "BloodPressure                4.557292\n",
            "SkinThickness               29.557292\n",
            "BMI                          1.432292\n",
            "DiabetesPedigreeFunction     0.000000\n",
            "Age                          0.000000\n",
            "dtype: float64\n"
          ]
        }
      ]
    },
    {
      "cell_type": "code",
      "source": [
        "\n",
        "updated_data=x[final_data.index]\n",
        "print(updated_data)"
      ],
      "metadata": {
        "colab": {
          "base_uri": "https://localhost:8080/"
        },
        "id": "_xdyjYHoV1Gv",
        "outputId": "36c67116-2353-412b-f37d-b74a14d256c8"
      },
      "execution_count": 37,
      "outputs": [
        {
          "output_type": "stream",
          "name": "stdout",
          "text": [
            "     Pregnancies  Glucose  BloodPressure  SkinThickness   BMI  \\\n",
            "0              6      148             72             35  33.6   \n",
            "1              1       85             66             29  26.6   \n",
            "2              8      183             64              0  23.3   \n",
            "3              1       89             66             23  28.1   \n",
            "4              0      137             40             35  43.1   \n",
            "..           ...      ...            ...            ...   ...   \n",
            "763           10      101             76             48  32.9   \n",
            "764            2      122             70             27  36.8   \n",
            "765            5      121             72             23  26.2   \n",
            "766            1      126             60              0  30.1   \n",
            "767            1       93             70             31  30.4   \n",
            "\n",
            "     DiabetesPedigreeFunction  Age  \n",
            "0                       0.627   50  \n",
            "1                       0.351   31  \n",
            "2                       0.672   32  \n",
            "3                       0.167   21  \n",
            "4                       2.288   33  \n",
            "..                        ...  ...  \n",
            "763                     0.171   63  \n",
            "764                     0.340   27  \n",
            "765                     0.245   30  \n",
            "766                     0.349   47  \n",
            "767                     0.315   23  \n",
            "\n",
            "[768 rows x 7 columns]\n"
          ]
        }
      ]
    },
    {
      "cell_type": "code",
      "source": [
        "\n",
        "from sklearn.model_selection import train_test_split\n",
        "from sklearn.tree import DecisionTreeClassifier\n",
        "from sklearn.metrics import accuracy_score\n",
        "model=DecisionTreeClassifier(random_state=42)\n",
        "x_train,x_test,y_train,y_test=train_test_split(updated_data,y,test_size=0.2,random_state=42)\n",
        "model.fit(x_train,y_train)\n",
        "y_pred=model.predict(x_test)\n",
        "accuracy=accuracy_score(y_test,y_pred)\n",
        "print(\"Accuracy after removing droping the cloums of missing values > 30 :\",accuracy)\n",
        "\n",
        "xu_train,xu_test,yu_train,yu_test=train_test_split(x,y,test_size=0.2,random_state=42)\n",
        "model.fit(xu_train,yu_train)\n",
        "yu_pred=model.predict(xu_test)\n",
        "accuracy=accuracy_score(yu_test,yu_pred)\n",
        "print(\"\\nEffected Accuracy after including the missing values\",accuracy)\n"
      ],
      "metadata": {
        "colab": {
          "base_uri": "https://localhost:8080/"
        },
        "id": "2gbB8j6UXsRC",
        "outputId": "16eb2c98-4f51-489b-ad1e-12c047feca7e"
      },
      "execution_count": 42,
      "outputs": [
        {
          "output_type": "stream",
          "name": "stdout",
          "text": [
            "Accuracy after removing droping the cloums of missing values > 30 : 0.7272727272727273\n",
            "\n",
            "Effected Accuracy after including the missing values 0.7467532467532467\n"
          ]
        }
      ]
    }
  ]
}